{
 "cells": [
  {
   "cell_type": "markdown",
   "metadata": {},
   "source": [
    "# Exercise 3 - Customers of a Hotel Speak\n",
    "\n",
    "## Hua Wang\n",
    "## 2016SU_PREDICT_420-DL_SEC55"
   ]
  },
  {
   "cell_type": "code",
   "execution_count": 1,
   "metadata": {
    "collapsed": false
   },
   "outputs": [],
   "source": [
    "#Part 1\n",
    "\n",
    "import pandas as pd\n",
    "import json\n",
    "\n",
    "#read json file into jsondat object as dict\n",
    "with open('100506.json') as input_file:\n",
    "    jsondat=json.load(input_file)\n",
    "\n"
   ]
  },
  {
   "cell_type": "code",
   "execution_count": 2,
   "metadata": {
    "collapsed": false
   },
   "outputs": [
    {
     "data": {
      "text/html": [
       "<div>\n",
       "<table border=\"1\" class=\"dataframe\">\n",
       "  <thead>\n",
       "    <tr style=\"text-align: right;\">\n",
       "      <th></th>\n",
       "      <th>Author</th>\n",
       "      <th>Business service (e.g., internet access)</th>\n",
       "      <th>Check in / front desk</th>\n",
       "      <th>Cleanliness</th>\n",
       "      <th>Content</th>\n",
       "      <th>Date</th>\n",
       "      <th>Location</th>\n",
       "      <th>Overall</th>\n",
       "      <th>Rooms</th>\n",
       "      <th>Service</th>\n",
       "      <th>Sleep Quality</th>\n",
       "      <th>Value</th>\n",
       "    </tr>\n",
       "  </thead>\n",
       "  <tbody>\n",
       "    <tr>\n",
       "      <th>0</th>\n",
       "      <td>luvsroadtrips</td>\n",
       "      <td>NaN</td>\n",
       "      <td>NaN</td>\n",
       "      <td>1</td>\n",
       "      <td>This place is not even suitable for the homele...</td>\n",
       "      <td>January 3, 2012</td>\n",
       "      <td>5</td>\n",
       "      <td>1</td>\n",
       "      <td>1</td>\n",
       "      <td>1</td>\n",
       "      <td>1</td>\n",
       "      <td>1</td>\n",
       "    </tr>\n",
       "    <tr>\n",
       "      <th>1</th>\n",
       "      <td>estelle e</td>\n",
       "      <td>NaN</td>\n",
       "      <td>NaN</td>\n",
       "      <td>4</td>\n",
       "      <td>We stayed in downtown hotel Seattle for two ni...</td>\n",
       "      <td>December 29, 2011</td>\n",
       "      <td>5</td>\n",
       "      <td>4</td>\n",
       "      <td>3</td>\n",
       "      <td>4</td>\n",
       "      <td>5</td>\n",
       "      <td>3</td>\n",
       "    </tr>\n",
       "    <tr>\n",
       "      <th>2</th>\n",
       "      <td>RobertEddy</td>\n",
       "      <td>NaN</td>\n",
       "      <td>NaN</td>\n",
       "      <td>2</td>\n",
       "      <td>i made reservations and when i showed up, i qu...</td>\n",
       "      <td>December 20, 2011</td>\n",
       "      <td>1</td>\n",
       "      <td>1</td>\n",
       "      <td>1</td>\n",
       "      <td>1</td>\n",
       "      <td>1</td>\n",
       "      <td>1</td>\n",
       "    </tr>\n",
       "    <tr>\n",
       "      <th>3</th>\n",
       "      <td>James R</td>\n",
       "      <td>NaN</td>\n",
       "      <td>NaN</td>\n",
       "      <td>1</td>\n",
       "      <td>This hotel is so bad it's a joke. I could bare...</td>\n",
       "      <td>October 30, 2011</td>\n",
       "      <td>1</td>\n",
       "      <td>1</td>\n",
       "      <td>1</td>\n",
       "      <td>1</td>\n",
       "      <td>1</td>\n",
       "      <td>1</td>\n",
       "    </tr>\n",
       "    <tr>\n",
       "      <th>4</th>\n",
       "      <td>Shobha49</td>\n",
       "      <td>NaN</td>\n",
       "      <td>NaN</td>\n",
       "      <td>NaN</td>\n",
       "      <td>My husband and I stayed at this hotel from 16t...</td>\n",
       "      <td>September 14, 2011</td>\n",
       "      <td>5</td>\n",
       "      <td>1</td>\n",
       "      <td>1</td>\n",
       "      <td>1</td>\n",
       "      <td>NaN</td>\n",
       "      <td>3</td>\n",
       "    </tr>\n",
       "  </tbody>\n",
       "</table>\n",
       "</div>"
      ],
      "text/plain": [
       "          Author  Business service (e.g., internet access)  \\\n",
       "0  luvsroadtrips                                       NaN   \n",
       "1      estelle e                                       NaN   \n",
       "2     RobertEddy                                       NaN   \n",
       "3        James R                                       NaN   \n",
       "4       Shobha49                                       NaN   \n",
       "\n",
       "   Check in / front desk  Cleanliness  \\\n",
       "0                    NaN            1   \n",
       "1                    NaN            4   \n",
       "2                    NaN            2   \n",
       "3                    NaN            1   \n",
       "4                    NaN          NaN   \n",
       "\n",
       "                                             Content                Date  \\\n",
       "0  This place is not even suitable for the homele...     January 3, 2012   \n",
       "1  We stayed in downtown hotel Seattle for two ni...   December 29, 2011   \n",
       "2  i made reservations and when i showed up, i qu...   December 20, 2011   \n",
       "3  This hotel is so bad it's a joke. I could bare...    October 30, 2011   \n",
       "4  My husband and I stayed at this hotel from 16t...  September 14, 2011   \n",
       "\n",
       "   Location  Overall  Rooms  Service  Sleep Quality  Value  \n",
       "0         5        1      1        1              1      1  \n",
       "1         5        4      3        4              5      3  \n",
       "2         1        1      1        1              1      1  \n",
       "3         1        1      1        1              1      1  \n",
       "4         5        1      1        1            NaN      3  "
      ]
     },
     "execution_count": 2,
     "metadata": {},
     "output_type": "execute_result"
    }
   ],
   "source": [
    "#process data in the json dicts \n",
    "review_list = [] # initiate an empty list\n",
    "\n",
    "#loop over each review \n",
    "for review in jsondat[\"Reviews\"]:\n",
    "    review_dict = review.copy() #make a copy of review dict\n",
    "    for key, value in review.items():  #loop over dict and get key, value\n",
    "        if key == 'Ratings':     #for Ratings, merge to review_dict, and append to review_list\n",
    "            review_dict.update(value)\n",
    "            review_list.append(review_dict)\n",
    " \n",
    "#convert list of dicts to dataframe\n",
    "review_df = pd.DataFrame.from_records(review_list)\n",
    "#drop unneeded columns\n",
    "review_df = review_df.drop(['AuthorLocation', 'Ratings','ReviewID','Title'], axis=1) \n",
    "\n",
    "#change ratings into numeric\n",
    "review_df[['Business service (e.g., internet access)','Check in / front desk','Cleanliness','Location', \\\n",
    "           'Overall','Rooms','Service','Sleep Quality','Value']] \\\n",
    "= review_df[['Business service (e.g., internet access)','Check in / front desk','Cleanliness','Location', \\\n",
    "           'Overall','Rooms','Service','Sleep Quality','Value']].apply(pd.to_numeric)\n",
    "review_df.head() #show dataframe\n",
    "\n",
    "        \n",
    "            \n",
    "            \n",
    "            \n",
    "\n",
    "            \n",
    "\n",
    "\n",
    "    \n",
    "    \n",
    "\n",
    "\n"
   ]
  },
  {
   "cell_type": "code",
   "execution_count": 9,
   "metadata": {
    "collapsed": false
   },
   "outputs": [
    {
     "name": "stdout",
     "output_type": "stream",
     "text": [
      "The mean for Business service (e.g., internet access) = 1.0, min = 1.0, max = 1.0\n",
      "The mean for Check in / front desk = 3.0, min = 1.0, max = 5.0\n",
      "The mean for Cleanliness = 2.0, min = 1.0, max = 5.0\n",
      "The mean for Location = 4.0, min = 1.0, max = 5.0\n",
      "The mean for Overall = 1.6666666666666667, min = 1.0, max = 4.0\n",
      "The mean for Rooms = 1.5454545454545454, min = 1.0, max = 5.0\n",
      "The mean for Service = 2.3, min = 1.0, max = 5.0\n",
      "The mean for Sleep Quality = 2.176470588235294, min = 1.0, max = 5.0\n",
      "The mean for Value = 2.0, min = 1.0, max = 5.0\n"
     ]
    }
   ],
   "source": [
    "# print the mean, min, and max for each ratings\n",
    "for rating in ['Business service (e.g., internet access)','Check in / front desk','Cleanliness','Location', \\\n",
    "           'Overall','Rooms','Service','Sleep Quality','Value']:\n",
    "    print (\"The mean for \" + rating + ' = ' +  str(review_df[rating].mean()) + ', min = ' + str(review_df[rating].min()) \\\n",
    "          + ', max = ' + str(review_df[rating].max())) \n"
   ]
  },
  {
   "cell_type": "code",
   "execution_count": 4,
   "metadata": {
    "collapsed": false
   },
   "outputs": [],
   "source": [
    "comment_df = review_df[['Author', 'Date','Content']]\n",
    "comment_df = comment_df.set_index('Author') #set author as index\n",
    "comment_df['Content'] = comment_df['Content'].apply(str) #convert the content column to string\n",
    "\n",
    "#export dataframe comment_df to text where each reviewer in one row\n",
    "comment_df.to_csv(r'100506_review_comments.txt', header=None, index=None, sep=' ', mode='a')\n",
    "\n",
    "#save review_df to pickle\n",
    "review_df.to_pickle('100506_ratings.pkl')\n"
   ]
  },
  {
   "cell_type": "code",
   "execution_count": 5,
   "metadata": {
    "collapsed": false
   },
   "outputs": [
    {
     "name": "stdout",
     "output_type": "stream",
     "text": [
      "['100506.json', '1217974.json', '677703.json']\n"
     ]
    }
   ],
   "source": [
    "# Part 2\n",
    "import warnings\n",
    "warnings.filterwarnings(\"ignore\") #surpress warnings\n",
    "\n",
    "dirname = \"/Users/huawang/Documents/classes/Northwestern/420/ex3\"\n",
    "files = [] #initialize an empty files list\n",
    "\n",
    "import os\n",
    "for file in os.listdir(dirname):\n",
    "    if file.endswith(\".json\"): #find all files end with .json\n",
    "        files.append(file) #append to list\n",
    "print (files)"
   ]
  },
  {
   "cell_type": "code",
   "execution_count": 6,
   "metadata": {
    "collapsed": false
   },
   "outputs": [
    {
     "data": {
      "text/html": [
       "<div>\n",
       "<table border=\"1\" class=\"dataframe\">\n",
       "  <thead>\n",
       "    <tr style=\"text-align: right;\">\n",
       "      <th></th>\n",
       "      <th>Address</th>\n",
       "      <th>HotelID</th>\n",
       "      <th>HotelURL</th>\n",
       "      <th>ImgURL</th>\n",
       "      <th>Name</th>\n",
       "      <th>Price</th>\n",
       "    </tr>\n",
       "  </thead>\n",
       "  <tbody>\n",
       "    <tr>\n",
       "      <th>0</th>\n",
       "      <td>&lt;address class=\"addressReset\"&gt; &lt;span rel=\"v:ad...</td>\n",
       "      <td>100506</td>\n",
       "      <td>/ShowUserReviews-g60878-d100506-Reviews-Hotel_...</td>\n",
       "      <td>http://media-cdn.tripadvisor.com/media/Provide...</td>\n",
       "      <td>Hotel Seattle</td>\n",
       "      <td>$96 - $118*</td>\n",
       "    </tr>\n",
       "    <tr>\n",
       "      <th>1</th>\n",
       "      <td>NaN</td>\n",
       "      <td>1217974</td>\n",
       "      <td>http://www.tripadvisor.com/ShowUserReviews-g60...</td>\n",
       "      <td>NaN</td>\n",
       "      <td>NaN</td>\n",
       "      <td>Unkonwn</td>\n",
       "    </tr>\n",
       "    <tr>\n",
       "      <th>2</th>\n",
       "      <td>NaN</td>\n",
       "      <td>677703</td>\n",
       "      <td>http://www.tripadvisor.com/ShowUserReviews-g15...</td>\n",
       "      <td>NaN</td>\n",
       "      <td>NaN</td>\n",
       "      <td>Unkonwn</td>\n",
       "    </tr>\n",
       "  </tbody>\n",
       "</table>\n",
       "</div>"
      ],
      "text/plain": [
       "                                             Address  HotelID  \\\n",
       "0  <address class=\"addressReset\"> <span rel=\"v:ad...   100506   \n",
       "1                                                NaN  1217974   \n",
       "2                                                NaN   677703   \n",
       "\n",
       "                                            HotelURL  \\\n",
       "0  /ShowUserReviews-g60878-d100506-Reviews-Hotel_...   \n",
       "1  http://www.tripadvisor.com/ShowUserReviews-g60...   \n",
       "2  http://www.tripadvisor.com/ShowUserReviews-g15...   \n",
       "\n",
       "                                              ImgURL           Name  \\\n",
       "0  http://media-cdn.tripadvisor.com/media/Provide...  Hotel Seattle   \n",
       "1                                                NaN            NaN   \n",
       "2                                                NaN            NaN   \n",
       "\n",
       "         Price  \n",
       "0  $96 - $118*  \n",
       "1      Unkonwn  \n",
       "2      Unkonwn  "
      ]
     },
     "execution_count": 6,
     "metadata": {},
     "output_type": "execute_result"
    }
   ],
   "source": [
    "hotels = [] #initialize an empty list hotels\n",
    "\n",
    "\n",
    "for file in files:\n",
    "    with open(file) as input_file:\n",
    "        jsondat=json.load(input_file)\n",
    "        hotels.append(jsondat['HotelInfo'])\n",
    "hotels_df = pd.DataFrame.from_records(hotels) #convert list of dicts into dataframe\n",
    "hotels_df"
   ]
  },
  {
   "cell_type": "code",
   "execution_count": 7,
   "metadata": {
    "collapsed": false
   },
   "outputs": [
    {
     "data": {
      "text/html": [
       "<div>\n",
       "<table border=\"1\" class=\"dataframe\">\n",
       "  <thead>\n",
       "    <tr style=\"text-align: right;\">\n",
       "      <th></th>\n",
       "      <th>Address</th>\n",
       "      <th>HotelID</th>\n",
       "      <th>HotelURL</th>\n",
       "      <th>ImgURL</th>\n",
       "      <th>Name</th>\n",
       "      <th>Price</th>\n",
       "    </tr>\n",
       "  </thead>\n",
       "  <tbody>\n",
       "    <tr>\n",
       "      <th>0</th>\n",
       "      <td>315 Seneca St., Seattle, WA 98101</td>\n",
       "      <td>100506</td>\n",
       "      <td>/ShowUserReviews-g60878-d100506-Reviews-Hotel_...</td>\n",
       "      <td>http://media-cdn.tripadvisor.com/media/Provide...</td>\n",
       "      <td>Hotel Seattle</td>\n",
       "      <td>$96 - $118*</td>\n",
       "    </tr>\n",
       "    <tr>\n",
       "      <th>1</th>\n",
       "      <td>nan</td>\n",
       "      <td>1217974</td>\n",
       "      <td>http://www.tripadvisor.com/ShowUserReviews-g60...</td>\n",
       "      <td>NaN</td>\n",
       "      <td>NaN</td>\n",
       "      <td>Unkonwn</td>\n",
       "    </tr>\n",
       "    <tr>\n",
       "      <th>2</th>\n",
       "      <td>nan</td>\n",
       "      <td>677703</td>\n",
       "      <td>http://www.tripadvisor.com/ShowUserReviews-g15...</td>\n",
       "      <td>NaN</td>\n",
       "      <td>NaN</td>\n",
       "      <td>Unkonwn</td>\n",
       "    </tr>\n",
       "  </tbody>\n",
       "</table>\n",
       "</div>"
      ],
      "text/plain": [
       "                             Address  HotelID  \\\n",
       "0  315 Seneca St., Seattle, WA 98101   100506   \n",
       "1                                nan  1217974   \n",
       "2                                nan   677703   \n",
       "\n",
       "                                            HotelURL  \\\n",
       "0  /ShowUserReviews-g60878-d100506-Reviews-Hotel_...   \n",
       "1  http://www.tripadvisor.com/ShowUserReviews-g60...   \n",
       "2  http://www.tripadvisor.com/ShowUserReviews-g15...   \n",
       "\n",
       "                                              ImgURL           Name  \\\n",
       "0  http://media-cdn.tripadvisor.com/media/Provide...  Hotel Seattle   \n",
       "1                                                NaN            NaN   \n",
       "2                                                NaN            NaN   \n",
       "\n",
       "         Price  \n",
       "0  $96 - $118*  \n",
       "1      Unkonwn  \n",
       "2      Unkonwn  "
      ]
     },
     "execution_count": 7,
     "metadata": {},
     "output_type": "execute_result"
    }
   ],
   "source": [
    "#create a function to parse Address to reable address string\n",
    "from bs4 import BeautifulSoup\n",
    "def parse_html (x):\n",
    "    soup = BeautifulSoup(str(x))\n",
    "    [s.extract() for s in soup(['street-address', 'locality', 'region', 'postal-code'])]\n",
    "    readable_text = soup.getText()\n",
    "    return readable_text.strip(' ')\n",
    "\n",
    "hotels_df['Address'] = hotels_df['Address'].apply(parse_html) #apply function to Address column\n",
    "hotels_df "
   ]
  },
  {
   "cell_type": "code",
   "execution_count": 8,
   "metadata": {
    "collapsed": true
   },
   "outputs": [],
   "source": [
    "#pickle dataframe\n",
    "hotels_df.to_pickle('HotelInfo.pkl')"
   ]
  }
 ],
 "metadata": {
  "kernelspec": {
   "display_name": "Python 3",
   "language": "python",
   "name": "python3"
  },
  "language_info": {
   "codemirror_mode": {
    "name": "ipython",
    "version": 3
   },
   "file_extension": ".py",
   "mimetype": "text/x-python",
   "name": "python",
   "nbconvert_exporter": "python",
   "pygments_lexer": "ipython3",
   "version": "3.5.1"
  }
 },
 "nbformat": 4,
 "nbformat_minor": 0
}
